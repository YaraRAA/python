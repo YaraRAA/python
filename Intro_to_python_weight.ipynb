{
 "cells": [
  {
   "cell_type": "markdown",
   "metadata": {},
   "source": [
    "### Below Code is adapted from:\n",
    "\n",
    "https://machinelearningmastery.com/machine-learning-in-python-step-by-step/\n",
    "\n",
    "\n",
    "https://www.geeksforgeeks.org/linear-regression-python-implementation/"
   ]
  },
  {
   "cell_type": "code",
   "execution_count": null,
   "metadata": {},
   "outputs": [],
   "source": [
    "import pandas as pd\n",
    "import scipy\n",
    "import numpy as np\n",
    "from matplotlib import pyplot\n",
    "from sklearn.model_selection import train_test_split\n",
    "from sklearn.model_selection import cross_val_score\n",
    "from sklearn import linear_model"
   ]
  },
  {
   "cell_type": "code",
   "execution_count": null,
   "metadata": {},
   "outputs": [],
   "source": [
    "# import file\n",
    "bostondat = pd.read_csv('Boston_Lying-in_inpatients_1886-1900.tsv', delimiter = '\\t', encoding = 'utf-8')\n",
    "print(bostondat.shape) #look at dimensions"
   ]
  },
  {
   "cell_type": "code",
   "execution_count": null,
   "metadata": {},
   "outputs": [],
   "source": [
    "#print column names\n",
    "print(list(bostondat.columns.values)) "
   ]
  },
  {
   "cell_type": "code",
   "execution_count": null,
   "metadata": {},
   "outputs": [],
   "source": [
    "# first 5 rows\n",
    "print(bostondat.head(5))\n",
    "# last 5 rows\n",
    "print(bostondat.tail(5)) "
   ]
  },
  {
   "cell_type": "code",
   "execution_count": null,
   "metadata": {},
   "outputs": [],
   "source": [
    "print(bostondat.describe()) #descriptives for continuous variables"
   ]
  },
  {
   "cell_type": "code",
   "execution_count": null,
   "metadata": {},
   "outputs": [],
   "source": [
    "print(bostondat.groupby('bprcode').size()) #frequency table"
   ]
  },
  {
   "cell_type": "code",
   "execution_count": null,
   "metadata": {},
   "outputs": [],
   "source": [
    "print(bostondat.groupby('marstat').size())"
   ]
  },
  {
   "cell_type": "code",
   "execution_count": null,
   "metadata": {},
   "outputs": [],
   "source": [
    " # two by two table\n",
    "pd.crosstab(bostondat['nuofpreg'], bostondat['marstat'])"
   ]
  },
  {
   "cell_type": "code",
   "execution_count": null,
   "metadata": {},
   "outputs": [],
   "source": [
    "bostondat.weight.plot(kind = 'box')\n",
    "pyplot.show()"
   ]
  },
  {
   "cell_type": "code",
   "execution_count": null,
   "metadata": {},
   "outputs": [],
   "source": [
    "bostondat.boxplot(column='weight', by='sex') \n",
    "title_boxplot = 'Boxplot grouped by sex'\n",
    "pyplot.title( title_boxplot )\n",
    "pyplot.suptitle('') \n",
    "pyplot.show()"
   ]
  },
  {
   "cell_type": "code",
   "execution_count": null,
   "metadata": {},
   "outputs": [],
   "source": [
    "#exercise: create a boxplot for the variable nuofpreg\n"
   ]
  },
  {
   "cell_type": "code",
   "execution_count": null,
   "metadata": {},
   "outputs": [],
   "source": [
    "#histograms - this code is wrong: fix it!!\n",
    "bostondat.nuofpred.hist()\n",
    "pyplot.show()"
   ]
  },
  {
   "cell_type": "code",
   "execution_count": null,
   "metadata": {},
   "outputs": [],
   "source": [
    "#create dummy variables\n",
    "bostondat2 = pd.get_dummies(data=bostondat, columns=['marstat','resicodr','bprcode','season'])"
   ]
  },
  {
   "cell_type": "code",
   "execution_count": null,
   "metadata": {},
   "outputs": [],
   "source": [
    "#remove missing\n",
    "bostondat3 = bostondat2.dropna()\n",
    "print(bostondat3.shape)"
   ]
  },
  {
   "cell_type": "code",
   "execution_count": null,
   "metadata": {},
   "outputs": [],
   "source": [
    "# what does this code do?\n",
    "del bostondat2"
   ]
  },
  {
   "cell_type": "code",
   "execution_count": null,
   "metadata": {},
   "outputs": [],
   "source": [
    "print(list(bostondat3.columns.values)) "
   ]
  },
  {
   "cell_type": "code",
   "execution_count": null,
   "metadata": {},
   "outputs": [],
   "source": [
    "# A brief interlude on how python indexes (grabs a slice of) an object\n",
    "x = list(range(0, 10, 1))\n",
    "print(x)\n",
    "print(x[:4])\n",
    "print(x[5:])"
   ]
  },
  {
   "cell_type": "code",
   "execution_count": null,
   "metadata": {},
   "outputs": [],
   "source": [
    "## predicting birth weight\n",
    "## grab just the values from data create separate objects for the dependent variable (Y) and the independent variables (X)\n",
    "array = bostondat3.values\n",
    "print(array.shape)\n",
    "\n",
    "X = np.concatenate((array[:,:4], array[:,5:]), axis = 1)\n",
    "Y = array[:,4]\n",
    "\n",
    "print(Y[1:10]) #check that Y = weight column\n",
    "\n",
    "#check dimensions of X & Y\n",
    "print(Y.shape) \n",
    "print(X.shape)"
   ]
  },
  {
   "cell_type": "code",
   "execution_count": null,
   "metadata": {},
   "outputs": [],
   "source": [
    "import statsmodels.api as sm\n",
    "from scipy import stats\n",
    "\n",
    "X2 = sm.add_constant(X)\n",
    "est = sm.OLS(Y, X)\n",
    "est2 = est.fit()\n",
    "print(est2.summary())"
   ]
  },
  {
   "cell_type": "code",
   "execution_count": null,
   "metadata": {},
   "outputs": [],
   "source": []
  }
 ],
 "metadata": {
  "kernelspec": {
   "display_name": "Python 3",
   "language": "python",
   "name": "python3"
  },
  "language_info": {
   "codemirror_mode": {
    "name": "ipython",
    "version": 3
   },
   "file_extension": ".py",
   "mimetype": "text/x-python",
   "name": "python",
   "nbconvert_exporter": "python",
   "pygments_lexer": "ipython3",
   "version": "3.7.4"
  }
 },
 "nbformat": 4,
 "nbformat_minor": 2
}
